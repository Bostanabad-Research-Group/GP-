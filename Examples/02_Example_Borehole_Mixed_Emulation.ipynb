{
 "cells": [
  {
   "cell_type": "markdown",
   "metadata": {},
   "source": [
    "Import necessary modules"
   ]
  },
  {
   "cell_type": "code",
   "execution_count": null,
   "metadata": {},
   "outputs": [],
   "source": [
    "from gpplus.models import GP_Plus\n",
    "from gpplus.test_functions.analytical import borehole_mixed_variables\n",
    "from gpplus.preprocessing import train_test_split_normalizeX\n",
    "from gpplus.utils import set_seed"
   ]
  },
  {
   "cell_type": "markdown",
   "metadata": {},
   "source": [
    "Data generation and prepration:\n",
    "The next step is to generate the data, standardize it and separate it to train-test sets. This time, we convert the first and sixth features of Borehole example to categorical variables to have a mixed-input example.\n",
    "\n",
    "\n",
    "Then, we generate 1000 samples, standardize it and use 1% of theem as the training data."
   ]
  },
  {
   "cell_type": "code",
   "execution_count": null,
   "metadata": {},
   "outputs": [],
   "source": [
    "set_seed(4)\n",
    "qual_index = {0: 5, 5: 5}\n",
    "U, y = borehole_mixed_variables(n=10000, qual_dict=qual_index, random_state=4)\n",
    "Utrain, Utest, ytrain, ytest = train_test_split_normalizeX(U, y, test_size=0.99, qual_index_val=qual_index)\n",
    "\n"
   ]
  },
  {
   "cell_type": "markdown",
   "metadata": {},
   "source": [
    "Create and fit the GP+ model: Firstly, we create the model using GP_Plus command, and then the model is optimized with model.fit"
   ]
  },
  {
   "cell_type": "code",
   "execution_count": null,
   "metadata": {},
   "outputs": [],
   "source": [
    "model = GP_Plus(Utrain, ytrain, qual_index=qual_index)\n",
    "model.fit(bounds=True)"
   ]
  },
  {
   "cell_type": "markdown",
   "metadata": {},
   "source": [
    "Visualization and evaluation: As this is a mixed-space problem, we use the 'model.visualize_latent()' command to visualize the learnt latent space of the categorical features.\n",
    "\n",
    "Then, the accuarcy of the model is evaluated using 'model.evaluation(); command"
   ]
  },
  {
   "cell_type": "code",
   "execution_count": null,
   "metadata": {},
   "outputs": [],
   "source": [
    "model.visualize_latent()\n",
    "model.evaluation(Utest, ytest)"
   ]
  }
 ],
 "metadata": {
  "language_info": {
   "name": "python"
  }
 },
 "nbformat": 4,
 "nbformat_minor": 2
}
