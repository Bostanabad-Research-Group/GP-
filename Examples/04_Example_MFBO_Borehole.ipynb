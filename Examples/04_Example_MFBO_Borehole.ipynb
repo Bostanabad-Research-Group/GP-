{
 "cells": [
  {
   "cell_type": "markdown",
   "metadata": {},
   "source": [
    "Import necessary modules"
   ]
  },
  {
   "cell_type": "code",
   "execution_count": null,
   "metadata": {},
   "outputs": [],
   "source": [
    "from gpplus.test_functions.multi_fidelity import Borehole_MF_BO\n",
    "from gpplus.utils import set_seed\n",
    "from gpplus.preprocessing.normalizeX import standard\n",
    "from gpplus.bayesian_optimizations.BO_GP_plus import BO, Visualize_BO"
   ]
  },
  {
   "cell_type": "markdown",
   "metadata": {},
   "source": [
    "Define the problem-specific parameters: Here we define the index of categorical variables and lower and upper bounds of the problem for optimization"
   ]
  },
  {
   "cell_type": "code",
   "execution_count": null,
   "metadata": {},
   "outputs": [],
   "source": [
    "qual_index={8:5}\n",
    "l_bound = [100,990, 700,100,0.05,10,1000,6000]            \n",
    "u_bound = [1000,1110,820,10000,0.15,500,2000,12000]"
   ]
  },
  {
   "cell_type": "markdown",
   "metadata": {},
   "source": [
    "Initialization: Number of initial samples from each source and the corresponding sampling cost of each source."
   ]
  },
  {
   "cell_type": "code",
   "execution_count": null,
   "metadata": {},
   "outputs": [],
   "source": [
    "n_train_init = {'0': 5, '1': 5, '2': 50, '3': 5, '4': 50}\n",
    "costs = {'0': 1000, '1': 100, '2': 10, '3':100, '4':10} "
   ]
  },
  {
   "cell_type": "markdown",
   "metadata": {},
   "source": [
    "Data generation and standardization"
   ]
  },
  {
   "cell_type": "code",
   "execution_count": null,
   "metadata": {},
   "outputs": [],
   "source": [
    "U_init, y_init = Borehole_MF_BO(True,n_train_init)           \n",
    "U_init,umean, ustd = standard(U_init,qual_index)"
   ]
  },
  {
   "cell_type": "markdown",
   "metadata": {},
   "source": [
    "Starting BO loop: All the components of BO, including emulator and acquisition functions are embedded in the BO function. Lots of options are defined as the inputs of BO function to enable flexible optimization. These options are detailed in the paper. Here, we stick to the default setting."
   ]
  },
  {
   "cell_type": "code",
   "execution_count": null,
   "metadata": {},
   "outputs": [],
   "source": [
    "bestf, cost = BO(U_init,y_init,costs,l_bound,u_bound,umean,ustd,qual_index,Borehole_MF)"
   ]
  },
  {
   "cell_type": "markdown",
   "metadata": {},
   "source": [
    "Visualizing the performance of BO: The Visualize_BO function plots the best converged value ($y^*$) vs the cumulative convergence cost."
   ]
  },
  {
   "cell_type": "code",
   "execution_count": null,
   "metadata": {},
   "outputs": [],
   "source": [
    "Visualize_BO(bestf,cost)"
   ]
  }
 ],
 "metadata": {
  "language_info": {
   "name": "python"
  }
 },
 "nbformat": 4,
 "nbformat_minor": 2
}
