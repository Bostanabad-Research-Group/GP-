{
 "cells": [
  {
   "cell_type": "code",
   "execution_count": null,
   "metadata": {},
   "outputs": [],
   "source": [
    "# Import necessary modules\n",
    "from gpplus.models import GP_Plus\n",
    "from gpplus.test_functions.analytical import borehole\n",
    "from gpplus.preprocessing import train_test_split_normalizeX\n",
    "from gpplus.utils import set_seed\n",
    "\n",
    "# Generate and split the data\n",
    "set_seed(1245)\n",
    "X, y = borehole(n=10500, random_state=12345)\n",
    "Xtrain, Xtest, ytrain, ytest = train_test_split_normalizeX(X, y, test_size=0.95)\n",
    "\n",
    "# Create and fit the GP+ model\n",
    "model = GP_Plus(Xtrain, ytrain, device='cuda')\n",
    "model.fit(n_jobs=-1, num_restarts=32)\n",
    "\n",
    "# Evaluate the model\n",
    "model.evaluation(Xtest, ytest)"
   ]
  }
 ],
 "metadata": {
  "language_info": {
   "name": "python"
  }
 },
 "nbformat": 4,
 "nbformat_minor": 2
}
