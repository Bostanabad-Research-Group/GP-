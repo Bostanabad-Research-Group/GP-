# Gaussian Process Regression with GP_Plus

In this notebook, we demonstrate Gaussian Process Regression using the GP_Plus model. We use the borehole function as a test function for generating synthetic data. The objective is to train a GP_Plus model on this data and evaluate its performance.

     

