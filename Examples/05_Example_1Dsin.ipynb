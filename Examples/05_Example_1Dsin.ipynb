{
 "cells": [
  {
   "cell_type": "markdown",
   "metadata": {},
   "source": [
    "Import necessary modules"
   ]
  },
  {
   "cell_type": "code",
   "execution_count": null,
   "metadata": {},
   "outputs": [],
   "source": [
    "from gpplus.models import GP_Plus\n",
    "from gpplus.test_functions.analytical import sine_1D\n",
    "from gpplus.preprocessing import train_test_split_normalizeX\n",
    "from gpplus.utils import set_seed\n",
    "import matplotlib.pyplot as plt"
   ]
  },
  {
   "cell_type": "markdown",
   "metadata": {},
   "source": [
    "Generate and Prepare Data"
   ]
  },
  {
   "cell_type": "code",
   "execution_count": null,
   "metadata": {},
   "outputs": [],
   "source": [
    "random_state=1",
    "X, y = sine_1D(n = 10000, random_state= random_state, frequency=1.0, noise_std=0.0)\n",
    "Xtrain, Xtest, ytrain, ytest = train_test_split_normalizeX(X, y, test_size = 0.99)"
   ]
  },
  {
   "cell_type": "markdown",
   "metadata": {},
   "source": [
    "Model Building and Fitting:\n",
    "\n",
    "In this part, we use the Matern32Kernel with the 'fixed_length_scale' flag set to 1. You also have the option to specify other fixed values for these parameters using the 'fixed_omega' input when building the model."
   ]
  },
  {
   "cell_type": "code",
   "execution_count": null,
   "metadata": {},
   "outputs": [],
   "source": [
    "model = GP_Plus(Xtrain, ytrain, fixed_length_scale=True,quant_correlation_class ='Matern32Kernel')\n",
    "model.fit(n_jobs = -1,num_restarts = 16)"
   ]
  },
  {
   "cell_type": "markdown",
   "metadata": {},
   "source": [
    "Evaluate and Visualization"
   ]
  },
  {
   "cell_type": "code",
   "execution_count": null,
   "metadata": {},
   "outputs": [],
   "source": [
    "model.evaluation(Xtest, ytest)  \n",
    "############################### plot results ##############################################\n",
    "model.plot_xy_print_params(Xtest, ytest, Xtrain, ytrain, model)"
   ]
  }
 ],
 "metadata": {
  "language_info": {
   "name": "python"
  }
 },
 "nbformat": 4,
 "nbformat_minor": 2
}
