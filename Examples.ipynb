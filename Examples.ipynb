


from gpplus.models import GP_Plus
from gpplus.test_functions.analytical import borehole
from gpplus.preprocessing import train_test_split_normalizeX
from gpplus.utils import set_seed

random_state = 1245
set_seed(random_state)
############################ Generate Data #########################################
X, y = borehole(n = 10500, random_state= 12345)
############################## train test split ####################################
Xtrain, Xtest, ytrain, ytest = train_test_split_normalizeX(X, y, test_size = 0.95)
############################### Model ##############################################
model = GP_Plus(Xtrain, ytrain,device='cuda')
############################### Fit Model ##########################################
model.fit(n_jobs=-1,num_restarts= 32)
############################### evaluation ##############################################
model.evaluation(Xtest, ytest)       

